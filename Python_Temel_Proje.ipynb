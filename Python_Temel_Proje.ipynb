{
 "cells": [
  {
   "cell_type": "code",
   "execution_count": 2,
   "id": "d27d9184-5f48-475d-bb8c-5fb0360ad0c4",
   "metadata": {},
   "outputs": [
    {
     "data": {
      "text/plain": [
       "[1, 'a', 'cat', 2, 1, 2, 3, 'dog', 4, 5]"
      ]
     },
     "execution_count": 2,
     "metadata": {},
     "output_type": "execute_result"
    }
   ],
   "source": [
    "lst = input()  # [[1,'a',['cat'],2],[[[3]],'dog'],4,5]\n",
    "flatten_lst=[]\n",
    "def flatten(lst):\n",
    "    for i in lst:\n",
    "        if type(i) is list:\n",
    "            flatten(i)\n",
    "        else: \n",
    "            flatten_lst.append(i)\n",
    "    return flatten_lst\n",
    "        \n",
    "flatten(lst)"
   ]
  },
  {
   "cell_type": "code",
   "execution_count": 47,
   "id": "e56788d1-724c-48aa-93ae-088f1f30913c",
   "metadata": {},
   "outputs": [
    {
     "data": {
      "text/plain": [
       "[5, 4, ['dog', [[3]]], [2, ['cat'], 'a', 1]]"
      ]
     },
     "execution_count": 47,
     "metadata": {},
     "output_type": "execute_result"
    }
   ],
   "source": [
    "lst = input() # [[1,'a',['cat'],2],[[[3]],'dog'],4,5]\n",
    "\n",
    "def reverse(lst):\n",
    "    result = []\n",
    "    for i in lst:\n",
    "        if type(i) is list:\n",
    "            result.append(reverse(i))\n",
    "        else:\n",
    "            result.append(i)\n",
    "    result=result[::-1]\n",
    "    return result\n",
    "reverse(lst)"
   ]
  }
 ],
 "metadata": {
  "kernelspec": {
   "display_name": "Python 3 (ipykernel)",
   "language": "python",
   "name": "python3"
  },
  "language_info": {
   "codemirror_mode": {
    "name": "ipython",
    "version": 3
   },
   "file_extension": ".py",
   "mimetype": "text/x-python",
   "name": "python",
   "nbconvert_exporter": "python",
   "pygments_lexer": "ipython3",
   "version": "3.8.12"
  }
 },
 "nbformat": 4,
 "nbformat_minor": 5
}
